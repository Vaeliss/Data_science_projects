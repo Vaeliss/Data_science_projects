{
 "cells": [
  {
   "cell_type": "code",
   "execution_count": 3,
   "metadata": {},
   "outputs": [
    {
     "name": "stdout",
     "output_type": "stream",
     "text": [
      "{'u': 1, 'v': 1, 'b': 1, 'i': 1, 'o': 1, 'h': 1, 'k': 1, 's': 2, 't': 2, 'f': 3, 'd': 3, 'n': 4, 'a': 5, 'r': 5, 'e': 7, ' ': 9}\n"
     ]
    }
   ],
   "source": [
    "# just an alternative faster way to do what's done below\n",
    "\n",
    "from collections import Counter\n",
    "from operator import itemgetter\n",
    "\n",
    "print(dict(sorted(dict(Counter(text)).items(),key=itemgetter(1),reverse=False)))"
   ]
  },
  {
   "cell_type": "code",
   "execution_count": 9,
   "metadata": {},
   "outputs": [
    {
     "name": "stdout",
     "output_type": "stream",
     "text": [
      "{'b': 1, 'h': 1, 'i': 1, 'k': 1, 'o': 1, 's': 1, 'u': 1, 'v': 1, 't': 2, 'd': 3, 'f': 3, 'n': 4, 'a': 5, 'r': 5, 'e': 7, ' ': 9}\n"
     ]
    }
   ],
   "source": [
    "def getFreq(text:str) -> dict:\n",
    "    freq = {}\n",
    "    for c in text:\n",
    "        if (c in freq.keys()):\n",
    "            freq[c]+=1\n",
    "        else:\n",
    "            freq[c] = 1\n",
    "    return freq\n",
    "\n",
    "text = \"a fast runner need never be afraid of the dark\"\n",
    "\n",
    "print(dict(sorted(getFreq(text).items(), key=lambda item: (item[1],item[0]))) )\n",
    "\n",
    "    \n",
    "    "
   ]
  },
  {
   "cell_type": "code",
   "execution_count": 4,
   "metadata": {},
   "outputs": [
    {
     "name": "stdout",
     "output_type": "stream",
     "text": [
      "defaultdict(<class 'list'>, {'pippo': [3, 4]})\n"
     ]
    }
   ],
   "source": [
    "from collections import defaultdict \n",
    "from heapq import heappush, heappop, heapify\n",
    "code = defaultdict(list)\n",
    "code['pippo'] = [3, 4]\n",
    "print(code)"
   ]
  },
  {
   "cell_type": "code",
   "execution_count": 10,
   "metadata": {},
   "outputs": [
    {
     "data": {
      "text/plain": [
       "[(' ', '00'),\n",
       " ('a', '010'),\n",
       " ('b', '110100'),\n",
       " ('d', '1001'),\n",
       " ('e', '101'),\n",
       " ('f', '1100'),\n",
       " ('h', '110101'),\n",
       " ('i', '110110'),\n",
       " ('k', '110111'),\n",
       " ('n', '1110'),\n",
       " ('o', '111100'),\n",
       " ('r', '011'),\n",
       " ('s', '111101'),\n",
       " ('t', '11111'),\n",
       " ('u', '10000'),\n",
       " ('v', '10001')]"
      ]
     },
     "execution_count": 10,
     "metadata": {},
     "output_type": "execute_result"
    }
   ],
   "source": [
    "def huffman(freqtable):\n",
    "    # Ref.: https://bit.ly/3cWJD22\n",
    "    from collections import defaultdict \n",
    "    from heapq import heappush, heappop, heapify\n",
    "\n",
    "    # mapping of letters to codes\n",
    "    code = defaultdict(list)\n",
    "\n",
    "    # Using a heap makes it easy to pull items with lowest frequency.\n",
    "    # Items in the heap are tuples containing a list of letters and the\n",
    "    # combined frequencies of the letters in the list.\n",
    "    heap = [ ( freq, [ ltr ] ) for ltr,freq in freqtable.items() ]\n",
    "\n",
    "    # Transform list x into a heap, in-place, in linear time.\n",
    "    heapify(heap)\n",
    "    \n",
    "    # Reduce the heap to a single item by combining the two items\n",
    "    # with the lowest frequencies.\n",
    "    while len(heap) > 1:\n",
    "        # Whenever elements are pushed or popped, heap structure in maintained\n",
    "        freq0,letters0 = heappop(heap)\n",
    "        for ltr in letters0:\n",
    "            code[ltr].insert(0,'0')\n",
    "        freq1,letters1 = heappop(heap)\n",
    "        for ltr in letters1:\n",
    "            code[ltr].insert(0,'1')\n",
    "        # heappush maintains the heap invariant / no need to call min-heapify\n",
    "        heappush(heap, ( freq0+freq1, letters0+letters1))\n",
    "    for k,v in code.items():\n",
    "        code[k] = ''.join(v)\n",
    "    return code\n",
    "\n",
    "#print(sorted(huffman(freqtable).items()))\n",
    "sorted(huffman(getFreq(text)).items())"
   ]
  },
  {
   "cell_type": "code",
   "execution_count": 20,
   "metadata": {
    "scrolled": true
   },
   "outputs": [
    {
     "name": "stdout",
     "output_type": "stream",
     "text": [
      "[(' ', '00'), ('a', '010'), ('b', '110010'), ('d', '1000'), ('e', '101'), ('f', '1001'), ('h', '110011'), ('i', '110100'), ('k', '110101'), ('n', '1110'), ('o', '110110'), ('r', '011'), ('s', '11110'), ('t', '11111'), ('u', '110111'), ('v', '11000')]\n"
     ]
    }
   ],
   "source": [
    "def huffman_2(freqtable):\n",
    "    # mapping of letters to codes\n",
    "    code = {k:[] for k in freqtable}\n",
    "\n",
    "    # Using a heap makes it easy to pull items with lowest frequency.\n",
    "    # Items in the heap are tuples containing a list of letters and the\n",
    "    # combined frequencies of the letters in the list.\n",
    "    heap = [(freq,ltr) for ltr,freq in freqtable.items() ]\n",
    "\n",
    "    # Transform list x into a heap, in-place, in linear time.\n",
    "    heapify(heap)\n",
    "    \n",
    "    # Reduce the heap to a single item by combining the two items\n",
    "    # with the lowest frequencies.\n",
    "    while len(heap) > 1:\n",
    "        # Whenever elements are pushed or popped, heap structure in maintained\n",
    "        freq0,letters0 = heappop(heap)\n",
    "        for ltr in letters0:\n",
    "            code[ltr].insert(0,'0')\n",
    "        freq1,letters1 = heappop(heap)\n",
    "        for ltr in letters1:\n",
    "            code[ltr].insert(0,'1')\n",
    "        # heappush maintains the heap invariant / no need to call min-heapify\n",
    "        heappush(heap, (freq0+freq1, letters0+letters1))\n",
    "    for k,v in code.items():\n",
    "        code[k] = ''.join(v)\n",
    "    return code\n",
    "\n",
    "#print(sorted(huffman(freqtable).items()))\n",
    "print(sorted(huffman_2(getFreq(text)).items()))\n",
    "\n",
    "code = huffman_2(getFreq(text))"
   ]
  },
  {
   "cell_type": "code",
   "execution_count": 18,
   "metadata": {},
   "outputs": [
    {
     "data": {
      "text/plain": [
       "'a fast runner needs never be afraid of the dark'"
      ]
     },
     "execution_count": 18,
     "metadata": {},
     "output_type": "execute_result"
    }
   ],
   "source": [
    "text"
   ]
  },
  {
   "cell_type": "code",
   "execution_count": 25,
   "metadata": {},
   "outputs": [
    {
     "name": "stdout",
     "output_type": "stream",
     "text": [
      "01000100101011110111110001111011111101110101011001110101101100011110001110101110001010110011001010100010100101101011010010000011011010010011111110011101001000010011110101\n"
     ]
    }
   ],
   "source": [
    "def encode_text(table,text):\n",
    "    res = []\n",
    "    for letter in text:\n",
    "        res.append(table[letter])\n",
    "    return \"\".join(res)\n",
    "\n",
    "encoding = encode_text(code,text)\n",
    "print(encoding)"
   ]
  },
  {
   "cell_type": "code",
   "execution_count": 31,
   "metadata": {},
   "outputs": [],
   "source": [
    "def decode_text(table,code):\n",
    "    reverse_table = {v:k for k,v in table.items()}\n",
    "    current_bites = \"\"\n",
    "    res = []\n",
    "    for num in code:\n",
    "        current_bites = current_bites+num\n",
    "        if current_bites in reverse_table:\n",
    "            res.append(reverse_table[current_bites])\n",
    "            current_bites = \"\"\n",
    "    return \"\".join(res)"
   ]
  },
  {
   "cell_type": "code",
   "execution_count": 32,
   "metadata": {},
   "outputs": [
    {
     "data": {
      "text/plain": [
       "'a fast runner needs never be afraid of the dark'"
      ]
     },
     "execution_count": 32,
     "metadata": {},
     "output_type": "execute_result"
    }
   ],
   "source": [
    "decode_text(code,encoding)"
   ]
  }
 ],
 "metadata": {
  "kernelspec": {
   "display_name": "Python 3",
   "language": "python",
   "name": "python3"
  },
  "language_info": {
   "codemirror_mode": {
    "name": "ipython",
    "version": 3
   },
   "file_extension": ".py",
   "mimetype": "text/x-python",
   "name": "python",
   "nbconvert_exporter": "python",
   "pygments_lexer": "ipython3",
   "version": "3.7.4"
  }
 },
 "nbformat": 4,
 "nbformat_minor": 4
}
