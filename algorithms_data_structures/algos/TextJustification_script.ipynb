{
 "cells": [
  {
   "cell_type": "code",
   "execution_count": 1,
   "metadata": {},
   "outputs": [],
   "source": [
    "import numpy as np\n",
    "# w is an array containing words\n",
    "def textJustification(w: np.array, pageWidth: int) -> (np.array, np.array):\n",
    "    # we could also use np.empty but it initialize the matrix to \"random\" values \n",
    "    # that should be treated carefully\n",
    "    badness = np.zeros([len(w), len(w)], dtype=float) # we use float to handle infinity\n",
    "    # range creates an iterator going from 0 to len(w)-1 <-- diff to pseudocode\n",
    "    for i in range(0,len(w)):\n",
    "        badness[i,i] = pageWidth-len(w[i])\n",
    "        for j in range(i+1, len(w)):\n",
    "            badness[i,j] = badness[i, j-1] - len(w[j]) - 1\n",
    "    for i in range(0, len(w)):\n",
    "        for j in range(i, len(w)):\n",
    "            if badness[i,j]<0:\n",
    "                badness[i,j] = np.inf\n",
    "            else:\n",
    "                badness[i,j] = badness[i,j]**2\n",
    "\n",
    "    # let's initialize the minCost and cIndex arrays\n",
    "    minCost = np.zeros(len(w), dtype=float) \n",
    "    cIndex = np.zeros(len(w), dtype=float) \n",
    "    \n",
    "    for i in reversed(range(0, len(w))): \n",
    "        minCost[i] = badness[i, len(w) - 1]\n",
    "        cIndex[i] = len(w) # careful here.\n",
    "        for j in reversed(range(i+1,len(w))):\n",
    "            if badness[i,j-1] != np.inf:\n",
    "                if (minCost[i] > badness[i, j-1] + minCost[j]):\n",
    "                    minCost[i] = badness[i, j-1] + minCost[j]\n",
    "                    cIndex[i] = j\n",
    "    \n",
    "    return minCost, cIndex"
   ]
  },
  {
   "cell_type": "code",
   "execution_count": 2,
   "metadata": {},
   "outputs": [],
   "source": [
    "def printJustifiedText(w: np.array, pageWidth: int) -> None:\n",
    "    (minCosts, index) = textJustification(w, pageWidth)\n",
    "    i = 0\n",
    "    # this is needed because there is no do-while in Python\n",
    "    while(True):\n",
    "        j = int(index[i])\n",
    "        for k in range(i, j): \n",
    "            if k != j-1:\n",
    "                print(w[k], end =\" \")\n",
    "            else:\n",
    "                print(w[k], end =\"\")\n",
    "        print(\"\")\n",
    "        i = j\n",
    "        if not(j < len(w)):\n",
    "            break\n",
    "        "
   ]
  },
  {
   "cell_type": "code",
   "execution_count": 3,
   "metadata": {},
   "outputs": [
    {
     "name": "stdout",
     "output_type": "stream",
     "text": [
      "[25.  9. 29.  0. 25.] [1. 3. 4. 5. 5.]\n",
      "diamonds\n",
      "are girls\n",
      "best friends\n"
     ]
    }
   ],
   "source": [
    "w = np.array([\"diamonds\", \"are\", \"girls\", \"best\", \"friends\"])\n",
    "\n",
    "(a,b) = textJustification(w,12)\n",
    "print(a,b)\n",
    "printJustifiedText(w, 12)\n"
   ]
  },
  {
   "cell_type": "code",
   "execution_count": 4,
   "metadata": {},
   "outputs": [],
   "source": [
    "def fileTokenizer(filePath: str) -> np.array:\n",
    "    tokens = [] \n",
    "    with open(filePath) as f:\n",
    "        for line in f.readlines():\n",
    "            tokens += line.split()\n",
    "    return np.array(tokens)\n"
   ]
  },
  {
   "cell_type": "code",
   "execution_count": 5,
   "metadata": {},
   "outputs": [],
   "source": [
    "import os\n",
    "def writeJustifiedTextfile(filepath: str, pageWidth: int):\n",
    "    # read, parse and return an array of word tokens\n",
    "    w = fileTokenizer(filepath)\n",
    "    # new file\n",
    "    filepathnew = os.path.splitext(filepath)[0] + \"_justified\" + os.path.splitext(filepath)[1]\n",
    "    \n",
    "    (minCosts, index) = textJustification(w, pageWidth)\n",
    "    with open(filepathnew, 'w') as f:\n",
    "        i = 0\n",
    "        # this is needed because there is no do-while in Python\n",
    "        j = int(index[0])\n",
    "        while(j < len(w)):\n",
    "            j = int(index[i])\n",
    "            for k in range(i, j): \n",
    "                if k != j-1:\n",
    "                    f.write(w[k] + \" \")\n",
    "                else:\n",
    "                    f.write(w[k])\n",
    "            f.write(\"\\n\")\n",
    "            i = j"
   ]
  },
  {
   "cell_type": "code",
   "execution_count": 6,
   "metadata": {},
   "outputs": [],
   "source": [
    "\n",
    "def optWriteJustifiedTextfile(filePath: str, pageWidth: int):    \n",
    "    filepathnew = os.path.splitext(filepath)[0] + \"_justified_opt\" + os.path.splitext(filepath)[1]\n",
    "    with open(filePath, 'r') as f, open(filepathnew, 'w') as fnew:\n",
    "        for line in f.readlines():\n",
    "            w = np.array(line.split())\n",
    "            if(len(w) != 0):\n",
    "                (minCosts, index) = textJustification(w, pageWidth)\n",
    "                i = 0\n",
    "                # this is a workaround to emulate the do-while loop in Python\n",
    "                while(True):\n",
    "                    j = int(index[i])\n",
    "                    for k in range(i, j): \n",
    "                        if k != j-1:\n",
    "                            fnew.write(w[k] + \" \")\n",
    "                        else:\n",
    "                            fnew.write(w[k])\n",
    "                    fnew.write(\"\\n\")\n",
    "                    i = j\n",
    "                    if not(j < len(w)):\n",
    "                        break\n",
    "            else:\n",
    "                fnew.write(\"\\n\")\n",
    "\n",
    "\n",
    "    "
   ]
  },
  {
   "cell_type": "code",
   "execution_count": null,
   "metadata": {},
   "outputs": [],
   "source": [
    "start_time = time.time()\n",
    "writeJustifiedTextfile(filepath, 20)\n",
    "print(\"--- basic version %s seconds ---\" % (time.time() - start_time))"
   ]
  },
  {
   "cell_type": "code",
   "execution_count": 10,
   "metadata": {},
   "outputs": [
    {
     "name": "stdout",
     "output_type": "stream",
     "text": [
      "--- optimized version: 3.1481986045837402 seconds ---\n"
     ]
    }
   ],
   "source": [
    "import time\n",
    "filepath = \"C:\\\\users\\\\alvis\\\\Desktop\\\\mobydick.txt\"\n",
    "\n",
    "\n",
    "\n",
    "\n",
    "start_time = time.time()\n",
    "optWriteJustifiedTextfile(filepath, 30)\n",
    "print(\"--- optimized version: %s seconds ---\" % (time.time() - start_time))\n",
    "\n"
   ]
  },
  {
   "cell_type": "code",
   "execution_count": null,
   "metadata": {},
   "outputs": [],
   "source": []
  }
 ],
 "metadata": {
  "kernelspec": {
   "display_name": "Python 3",
   "language": "python",
   "name": "python3"
  },
  "language_info": {
   "codemirror_mode": {
    "name": "ipython",
    "version": 3
   },
   "file_extension": ".py",
   "mimetype": "text/x-python",
   "name": "python",
   "nbconvert_exporter": "python",
   "pygments_lexer": "ipython3",
   "version": "3.7.4"
  }
 },
 "nbformat": 4,
 "nbformat_minor": 4
}
